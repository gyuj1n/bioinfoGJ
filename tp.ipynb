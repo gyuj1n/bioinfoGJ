{
 "cells": [
  {
   "cell_type": "code",
   "execution_count": 1,
   "id": "2e37c257",
   "metadata": {},
   "outputs": [
    {
     "name": "stdout",
     "output_type": "stream",
     "text": [
      "/home/ggy/bio/binfo1-work\n"
     ]
    }
   ],
   "source": [
    "%cd ./bio/binfo1-work/"
   ]
  },
  {
   "cell_type": "code",
   "execution_count": 2,
   "id": "764290c6",
   "metadata": {},
   "outputs": [
    {
     "name": "stdout",
     "output_type": "stream",
     "text": [
      "SRR458758.23028115\t0\tchr1\t3056473\t0\t20M\t*\t0\t0\tGAATGGAAGTTCAAGGATCT\tHHGHHGE@GGHHED?GEGDG\tMD:Z:20\tNH:i:40\tHI:i:1\tNM:i:0\tSM:i:0\tXQ:i:40\tX2:i:40\tXO:Z:UM\tXS:A:-\r\n",
      "SRR458758.23879202\t0\tchr1\t3056473\t0\t20M\t*\t0\t0\tGAATGGAAGTTCAAGGATCT\tGBGGEEAAF=CEEDEGBGG>\tMD:Z:20\tNH:i:40\tHI:i:1\tNM:i:0\tSM:i:0\tXQ:i:40\tX2:i:40\tXO:Z:UM\tXS:A:-\r\n",
      "SRR458758.23893532\t0\tchr1\t3056473\t0\t20M\t*\t0\t0\tGAATGGAAGTTCAAGGATCT\tG@?GGE=EFBDDGGGGD@GG\tMD:Z:20\tNH:i:40\tHI:i:1\tNM:i:0\tSM:i:0\tXQ:i:40\tX2:i:40\tXO:Z:UM\tXS:A:-\r\n",
      "SRR458758.26501547\t0\tchr1\t3056473\t0\t20M\t*\t0\t0\tGAATGGAAGTTCAAGGATCT\tIIIHIIIHIGHIIIHEHIHH\tMD:Z:20\tNH:i:40\tHI:i:1\tNM:i:0\tSM:i:0\tXQ:i:40\tX2:i:40\tXO:Z:UM\tXS:A:-\r\n",
      "SRR458758.685997\t16\tchr1\t3059006\t0\t22M\t*\t0\t0\tTTCATTTACAGAATGGAATACT\tEG7:776DGGGBD<GGEBGEG@\tMD:Z:22\tNH:i:30\tHI:i:1\tNM:i:0\tSM:i:0\tXQ:i:40\tX2:i:40\tXO:Z:UM\tXS:A:+\r\n",
      "samtools view: writing to standard output failed: Broken pipe\r\n",
      "samtools view: error closing standard output: -1\r\n"
     ]
    }
   ],
   "source": [
    "!samtools view CLIP-35L33G.bam| head -5"
   ]
  },
  {
   "cell_type": "code",
   "execution_count": 6,
   "id": "8325f522",
   "metadata": {},
   "outputs": [
    {
     "name": "stdout",
     "output_type": "stream",
     "text": [
      "SRR458758.22900636\t0\tchr1\t3117475\t40\t11S13M1S\t*\t0\t0\tTTTCCCAAAAGTTGGACTGGGACAC\tIIIIIHIHIHIIIIIIIIIIIIIII\tMD:Z:13\tNH:i:1\tHI:i:1\tNM:i:0\tSM:i:40\tXQ:i:40\tX2:i:0\tXO:Z:UU\tXS:A:+\r\n",
      "SRR458758.24775615\t0\tchr1\t3117475\t40\t11S13M1S\t*\t0\t0\tTTTCCCAAAAGTTGGACTGGGACAC\tIIGIIHIIIGHIFIIIIIIEIIGII\tMD:Z:13\tNH:i:1\tHI:i:1\tNM:i:0\tSM:i:40\tXQ:i:40\tX2:i:0\tXO:Z:UU\tXS:A:+\r\n",
      "SRR458758.28830452\t0\tchr1\t3117475\t39\t11S13M1S\t*\t0\t0\tTTTCCCAAAAGTTGGACTGGGACAC\tHHHHHHHHHGDDGGEDGGGDGDBHH\tMD:Z:13\tNH:i:1\tHI:i:1\tNM:i:0\tSM:i:39\tXQ:i:40\tX2:i:0\tXO:Z:UU\tXS:A:+\r\n",
      "SRR458758.15284226\t16\tchr1\t3161354\t0\t24M\t*\t0\t0\tGAAGGAGTTACAAAGACAAAGTTT\tIIIIIIIHIIIIIIIIIIIIIIII\tMD:Z:24\tNH:i:887\tHI:i:1\tNM:i:0\tSM:i:0\tXQ:i:40\tX2:i:40\tXO:Z:UM\tXS:A:+\r\n",
      "SRR458758.22108287\t16\tchr1\t3161354\t0\t24M\t*\t0\t0\tGAAGGAGTTACAAAGACAAAGTTT\tHFHHHHHHHHGHHHHHHFHHHHHH\tMD:Z:24\tNH:i:887\tHI:i:1\tNM:i:0\tSM:i:0\tXQ:i:40\tX2:i:40\tXO:Z:UM\tXS:A:+\r\n",
      "SRR458758.24938942\t16\tchr1\t3161354\t0\t24M\t*\t0\t0\tGAAGGAGTTACAAAGACAAAGTTT\tI@DIGIIIEIDCDBEIEHIGIIIH\tMD:Z:24\tNH:i:887\tHI:i:1\tNM:i:0\tSM:i:0\tXQ:i:40\tX2:i:40\tXO:Z:UM\tXS:A:+\r\n",
      "SRR458758.1652760\t0\tchr1\t3171312\t38\t10S16M\t*\t0\t0\tAAAAGGTGGTTATGCCATTAGGAGAC\tEEEBE:+774EEDEEGBBGGGG><<E\tMD:Z:0A15\tNH:i:1\tHI:i:1\tNM:i:1\tSM:i:38\tXQ:i:40\tX2:i:0\tXO:Z:UU\tXS:A:+\r\n",
      "SRR458758.3197548\t0\tchr1\t3171312\t40\t10S16M\t*\t0\t0\tAAAAGGTGGTTATGCCATTAGGAGAC\tIIIHIIFGIIIIIIHIIIHHGGIHHI\tMD:Z:0A15\tNH:i:1\tHI:i:1\tNM:i:1\tSM:i:40\tXQ:i:40\tX2:i:0\tXO:Z:UU\tXS:A:+\r\n",
      "SRR458758.6227892\t0\tchr1\t3171312\t40\t10S16M\t*\t0\t0\tAAAAGGTGGTTATGCCATTAGGAGAC\tIIIIIHFIIIHHIIIIIIIIIIIIII\tMD:Z:0A15\tNH:i:1\tHI:i:1\tNM:i:1\tSM:i:40\tXQ:i:40\tX2:i:0\tXO:Z:UU\tXS:A:+\r\n",
      "SRR458758.6831981\t0\tchr1\t3171312\t40\t10S16M\t*\t0\t0\tAAAAGGTGGTTATGCCATTAGGAGAC\tIHIIIGFGIIIHIIHIIIIHIIHIII\tMD:Z:0A15\tNH:i:1\tHI:i:1\tNM:i:1\tSM:i:40\tXQ:i:40\tX2:i:0\tXO:Z:UU\tXS:A:+\r\n",
      "grep: write error: Broken pipe\r\n",
      "samtools view: writing to standard output failed: Broken pipe\r\n",
      "samtools view: error closing standard output: -1\r\n"
     ]
    }
   ],
   "source": [
    "!samtools view CLIP-35L33G.bam | grep 'AAG..G' | head -10"
   ]
  },
  {
   "cell_type": "code",
   "execution_count": null,
   "id": "6738fcfc",
   "metadata": {},
   "outputs": [],
   "source": []
  }
 ],
 "metadata": {
  "kernelspec": {
   "display_name": "Python 3 (ipykernel)",
   "language": "python",
   "name": "python3"
  },
  "language_info": {
   "codemirror_mode": {
    "name": "ipython",
    "version": 3
   },
   "file_extension": ".py",
   "mimetype": "text/x-python",
   "name": "python",
   "nbconvert_exporter": "python",
   "pygments_lexer": "ipython3",
   "version": "3.8.13"
  }
 },
 "nbformat": 4,
 "nbformat_minor": 5
}
